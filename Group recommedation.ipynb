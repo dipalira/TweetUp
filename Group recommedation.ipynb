{
 "cells": [
  {
   "cell_type": "code",
   "execution_count": 246,
   "metadata": {
    "collapsed": true
   },
   "outputs": [],
   "source": [
    "from sklearn.externals import joblib\n",
    "clf = joblib.load('finalized_model.pkl') "
   ]
  },
  {
   "cell_type": "code",
   "execution_count": 248,
   "metadata": {
    "collapsed": true
   },
   "outputs": [],
   "source": [
    "import pandas as pd\n",
    "user_Data = pd.read_csv('user_data.csv', encoding= 'utf-8', )"
   ]
  },
  {
   "cell_type": "code",
   "execution_count": 249,
   "metadata": {
    "collapsed": true
   },
   "outputs": [],
   "source": [
    "user_Data = user_Data[['text']]"
   ]
  },
  {
   "cell_type": "code",
   "execution_count": 250,
   "metadata": {
    "collapsed": true
   },
   "outputs": [],
   "source": [
    "t = group_data['description'].to_string()"
   ]
  },
  {
   "cell_type": "code",
   "execution_count": 251,
   "metadata": {
    "collapsed": true
   },
   "outputs": [],
   "source": [
    "f = open('titles_list.txt')\n",
    "doc1 = str(f.read())"
   ]
  },
  {
   "cell_type": "code",
   "execution_count": 252,
   "metadata": {
    "collapsed": true
   },
   "outputs": [],
   "source": [
    "text1 = group_data['description'].tolist()\n",
    "text1 = '\\n'.join(map(str, text1))"
   ]
  },
  {
   "cell_type": "code",
   "execution_count": 253,
   "metadata": {},
   "outputs": [
    {
     "data": {
      "text/html": [
       "<div>\n",
       "<style>\n",
       "    .dataframe thead tr:only-child th {\n",
       "        text-align: right;\n",
       "    }\n",
       "\n",
       "    .dataframe thead th {\n",
       "        text-align: left;\n",
       "    }\n",
       "\n",
       "    .dataframe tbody tr th {\n",
       "        vertical-align: top;\n",
       "    }\n",
       "</style>\n",
       "<table border=\"1\" class=\"dataframe\">\n",
       "  <thead>\n",
       "    <tr style=\"text-align: right;\">\n",
       "      <th></th>\n",
       "      <th>name</th>\n",
       "      <th>class</th>\n",
       "      <th>description</th>\n",
       "    </tr>\n",
       "  </thead>\n",
       "  <tbody>\n",
       "    <tr>\n",
       "      <th>0</th>\n",
       "      <td>Clothing Swap And Events</td>\n",
       "      <td>1</td>\n",
       "      <td>Clothing Swaps are fashionable, fun and philan...</td>\n",
       "    </tr>\n",
       "    <tr>\n",
       "      <th>1</th>\n",
       "      <td>Santa Cruz Women's Clothing Swap</td>\n",
       "      <td>1</td>\n",
       "      <td>Meet with locals in a women-only, relaxed and ...</td>\n",
       "    </tr>\n",
       "    <tr>\n",
       "      <th>2</th>\n",
       "      <td>San Francisco Organic + Plant-Based Food Meetup</td>\n",
       "      <td>1</td>\n",
       "      <td>Meet people who are interested in organic, raw...</td>\n",
       "    </tr>\n",
       "    <tr>\n",
       "      <th>3</th>\n",
       "      <td>African Heritage Resources  Network</td>\n",
       "      <td>1</td>\n",
       "      <td>Connections, Innovation, Transformation, Total...</td>\n",
       "    </tr>\n",
       "    <tr>\n",
       "      <th>4</th>\n",
       "      <td>Craft Labs</td>\n",
       "      <td>1</td>\n",
       "      <td>Get your creative juices flowing at Craft Labs...</td>\n",
       "    </tr>\n",
       "  </tbody>\n",
       "</table>\n",
       "</div>"
      ],
      "text/plain": [
       "                                              name  class  \\\n",
       "0                         Clothing Swap And Events      1   \n",
       "1                 Santa Cruz Women's Clothing Swap      1   \n",
       "2  San Francisco Organic + Plant-Based Food Meetup      1   \n",
       "3              African Heritage Resources  Network      1   \n",
       "4                                       Craft Labs      1   \n",
       "\n",
       "                                         description  \n",
       "0  Clothing Swaps are fashionable, fun and philan...  \n",
       "1  Meet with locals in a women-only, relaxed and ...  \n",
       "2  Meet people who are interested in organic, raw...  \n",
       "3  Connections, Innovation, Transformation, Total...  \n",
       "4  Get your creative juices flowing at Craft Labs...  "
      ]
     },
     "execution_count": 253,
     "metadata": {},
     "output_type": "execute_result"
    }
   ],
   "source": [
    "group_data.head()"
   ]
  },
  {
   "cell_type": "code",
   "execution_count": 254,
   "metadata": {
    "collapsed": true
   },
   "outputs": [],
   "source": [
    "def get_text_file(filename):\n",
    "    group_data = pd.read_csv(filename)\n",
    "    group_data.dropna(axis=1, how='all')\n",
    "    text1 = group_data['description'].tolist()\n",
    "    text1 = ' '.join(map(str, text1))\n",
    "    return text1"
   ]
  },
  {
   "cell_type": "code",
   "execution_count": 258,
   "metadata": {
    "collapsed": true
   },
   "outputs": [],
   "source": [
    "#Category 2 top_text\n",
    "group_data = pd.read_csv('group_data.csv')"
   ]
  },
  {
   "cell_type": "code",
   "execution_count": 259,
   "metadata": {
    "collapsed": true
   },
   "outputs": [],
   "source": [
    "train_set = []\n",
    "def get_train_set(class_no, user_text):\n",
    "    train_set = []\n",
    "    train_set.append(user_text)\n",
    "    cat = group_data[group_data['class'] == class_no]['description'].values.astype('U').tolist()    \n",
    "    names = group_data[group_data['class'] == class_no]['name'].values.astype('U').tolist() \n",
    "    for text in cat:\n",
    "        train_set.append(text)\n",
    "    return train_set,names\n",
    "train_set,event_l = get_train_set(0,user_text)"
   ]
  },
  {
   "cell_type": "code",
   "execution_count": 260,
   "metadata": {
    "collapsed": true
   },
   "outputs": [],
   "source": [
    "from sklearn.metrics.pairwise import cosine_similarity\n",
    "from sklearn.feature_extraction.text import TfidfVectorizer\n",
    "from nltk.corpus import stopwords\n",
    "#train_set = [user_text,cat2[89],cat2[100], cat2[89]]\n",
    "stopWords = stopwords.words('english')\n"
   ]
  },
  {
   "cell_type": "code",
   "execution_count": 261,
   "metadata": {},
   "outputs": [
    {
     "data": {
      "text/plain": [
       "650"
      ]
     },
     "execution_count": 261,
     "metadata": {},
     "output_type": "execute_result"
    }
   ],
   "source": [
    "len(train_set)\n",
    "#len(event_l)"
   ]
  },
  {
   "cell_type": "code",
   "execution_count": 262,
   "metadata": {
    "collapsed": true
   },
   "outputs": [],
   "source": [
    "# Set up the vectoriser, passing in the stop words\n",
    "tfidf_vectorizer = TfidfVectorizer(stop_words=stopWords)\n",
    "\n",
    "# Apply the vectoriser to the training set\n",
    "tfidf_matrix_train = tfidf_vectorizer.fit_transform(train_set)\n",
    "\n",
    "# Print the score'\n",
    "#print (\"\\nSimilarity Score [*] \",cosine_similarity(tfidf_matrix_train, tfidf_matrix_train))\n",
    "l = cosine_similarity(tfidf_matrix_train, tfidf_matrix_train)[0]"
   ]
  },
  {
   "cell_type": "code",
   "execution_count": 263,
   "metadata": {
    "collapsed": true
   },
   "outputs": [],
   "source": [
    "ranking = [i[0] -1  for i in sorted(enumerate(l), key=lambda x:x[1], reverse=True)] \n",
    "ranking = ranking[1:]"
   ]
  },
  {
   "cell_type": "code",
   "execution_count": 264,
   "metadata": {
    "collapsed": true
   },
   "outputs": [],
   "source": [
    "recs = []\n",
    "for i in ranking[:20]:\n",
    "    recs.append(event_l[i])"
   ]
  },
  {
   "cell_type": "code",
   "execution_count": 265,
   "metadata": {},
   "outputs": [
    {
     "data": {
      "text/plain": [
       "['The Zero Net Energy Working Group (ZNEWG)',\n",
       " 'Infinity Qigong',\n",
       " 'SOLAR 101: Benefits of Solar & How Solar Works',\n",
       " 'Berkeley Clean Energy Hackers',\n",
       " 'Napa Solar Power Vocational and Education Meetup',\n",
       " 'Women in Cleantech & Sustainability',\n",
       " 'Solar Meet-Up',\n",
       " 'Energy Wellness Community',\n",
       " 'Keep people out of your energy (personal boundaries)',\n",
       " 'San Rafael Clean Energy Meetup',\n",
       " 'CA Smart Grid Group',\n",
       " 'MomBoss Healthy Weight Loss Meetup',\n",
       " 'The Reiki Circle Exchange',\n",
       " 'The San Francisco Reiki Meetup',\n",
       " 'Urban Permaculture',\n",
       " 'Software for Renewable Energy - Bay Area',\n",
       " 'Real Energy Solutions',\n",
       " 'The Microtransit Solution',\n",
       " 'San Jose Ayurveda Networking Meetup',\n",
       " 'IEEE YP & SCEA - Happy Hour!']"
      ]
     },
     "execution_count": 265,
     "metadata": {},
     "output_type": "execute_result"
    }
   ],
   "source": [
    "recs"
   ]
  },
  {
   "cell_type": "code",
   "execution_count": 141,
   "metadata": {
    "collapsed": true
   },
   "outputs": [],
   "source": [
    "from __future__ import division\n",
    "import string\n",
    "import math\n",
    "\n",
    "tokenize = lambda doc: doc.lower().split(\" \")\n",
    "\n",
    "def jaccard_similarity(query, document):\n",
    "    intersection = set(query).intersection(set(document))\n",
    "    union = set(query).union(set(document))\n",
    "    return len(intersection)/len(union)\n",
    "\n",
    "def term_frequency(term, tokenized_document):\n",
    "    return tokenized_document.count(term)\n",
    "\n",
    "def sublinear_term_frequency(term, tokenized_document):\n",
    "    count = tokenized_document.count(term)\n",
    "    if count == 0:\n",
    "        return 0\n",
    "    return 1 + math.log(count)\n",
    "\n",
    "def augmented_term_frequency(term, tokenized_document):\n",
    "    max_count = max([term_frequency(t, tokenized_document) for t in tokenized_document])\n",
    "    return (0.5 + ((0.5 * term_frequency(term, tokenized_document))/max_count))\n",
    "\n",
    "def inverse_document_frequencies(tokenized_documents):\n",
    "    idf_values = {}\n",
    "    all_tokens_set = set([item for sublist in tokenized_documents for item in sublist])\n",
    "    for tkn in all_tokens_set:\n",
    "        contains_token = map(lambda doc: tkn in doc, tokenized_documents)\n",
    "        idf_values[tkn] = 1 + math.log(len(tokenized_documents)/(sum(contains_token)))\n",
    "    return idf_values\n",
    "\n",
    "def tfidf(documents):\n",
    "    tokenized_documents = [tokenize(d) for d in documents]\n",
    "    idf = inverse_document_frequencies(tokenized_documents)\n",
    "    tfidf_documents = []\n",
    "    for document in tokenized_documents:\n",
    "        doc_tfidf = []\n",
    "        for term in idf.keys():\n",
    "            tf = sublinear_term_frequency(term, document)\n",
    "            doc_tfidf.append(tf * idf[term])\n",
    "        tfidf_documents.append(doc_tfidf)\n",
    "    return tfidf_documents\n",
    "\n",
    "#in Scikit-Learn\n",
    "from sklearn.feature_extraction.text import TfidfVectorizer\n",
    "\n",
    "sklearn_tfidf = TfidfVectorizer(norm='l2',min_df=0, use_idf=True, smooth_idf=False, sublinear_tf=True, tokenizer=tokenize)\n",
    "sklearn_representation = sklearn_tfidf.fit_transform(train_set)\n"
   ]
  },
  {
   "cell_type": "code",
   "execution_count": null,
   "metadata": {
    "collapsed": true
   },
   "outputs": [],
   "source": []
  }
 ],
 "metadata": {
  "kernelspec": {
   "display_name": "Python 3",
   "language": "python",
   "name": "python3"
  },
  "language_info": {
   "codemirror_mode": {
    "name": "ipython",
    "version": 3
   },
   "file_extension": ".py",
   "mimetype": "text/x-python",
   "name": "python",
   "nbconvert_exporter": "python",
   "pygments_lexer": "ipython3",
   "version": "3.6.2"
  }
 },
 "nbformat": 4,
 "nbformat_minor": 2
}
