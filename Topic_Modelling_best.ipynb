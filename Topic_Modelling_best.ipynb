{
 "cells": [
  {
   "cell_type": "code",
   "execution_count": 3,
   "metadata": {},
   "outputs": [],
   "source": [
    "import re\n",
    "import numpy as np\n",
    "import pandas as pd\n",
    "from pprint import pprint\n",
    "\n",
    "# Gensim\n",
    "import gensim\n",
    "import gensim.corpora as corpora\n",
    "from gensim.utils import simple_preprocess\n",
    "from gensim.models import CoherenceModel\n",
    "\n",
    "# spacy for lemmatization\n",
    "import spacy\n",
    "import warnings\n",
    "warnings.filterwarnings('ignore')\n",
    "# Plotting tools\n",
    "import pyLDAvis\n",
    "import pyLDAvis.gensim  # don't skip this\n",
    "import matplotlib.pyplot as plt\n",
    "%matplotlib inline\n"
   ]
  },
  {
   "cell_type": "code",
   "execution_count": 4,
   "metadata": {},
   "outputs": [],
   "source": [
    "#preprocessing of CSV \n",
    "data = []\n",
    "file_list = ['groups_0.xlsx','groups_04.csv','groups_05.csv']\n",
    "#file_list = ['groups_05.csv']\n",
    "for file_path in file_list[0]:\n",
    "    file1 = df=pd.read_excel('group_0.xlsx')\n",
    "    t = file1.drop_duplicates(['meetup_0_description'], keep='last')\n",
    "    text_list = t['meetup_0_description'].tolist()\n",
    "    text_list = list(map(str, text_list))\n",
    "    for text in text_list:\n",
    "        data.append(text)"
   ]
  },
  {
   "cell_type": "code",
   "execution_count": 9,
   "metadata": {
    "collapsed": true
   },
   "outputs": [],
   "source": [
    "meetup_words = ['<p>','<\\p>','<br>','http','idea','meeting','need','organization','member','club','group', 'join','meetup','right','idea','join','community','make','social','discuss','local','chapter',\n",
    "                    'people','country','br','www','span','like','event','nyyrc','www','facebook','people','href','com','facebook','topic','human','justice','discus','important','_','n•','meet','welcome','event','get','bring','day','join','go','https',\n",
    "                'nbsp','medium','ideas','one','-','style','party','font-size','color','email','small','youtube','others','org','state','level']\n",
    "from nltk.corpus import stopwords\n",
    "states = ['alabama', 'alaska', 'austrian','arizona', 'arkansas', 'california', 'colorado', 'connecticut', 'delaware', 'florida',\n",
    "            'georgia', 'hawaii', 'idaho', 'illinois', 'indiana'\n",
    "            , 'iowa', 'kansas', 'kentucky', 'louisiana', 'maine', 'maryland', 'massachusetts', 'michigan', 'minnesota',\n",
    "            'mississippi', 'missouri','montana', 'nebraska', 'nevada', 'new', 'hampshire', 'new', 'jersey', 'new', 'mexico', 'new', 'york', 'nyc',\n",
    "            'north carolina', 'north dakota', 'ohio',\n",
    "            'oklahoma', 'oregon', 'pennsylvania', 'rhode', 'island', 'south', 'carolina', 'south', 'dakota', 'tennessee',\n",
    "            'texas', 'utah', 'vermont', 'virginia',\n",
    "            'washington', 'dc', 'west', 'Virginia', 'wisconsin', 'wyoming', 'philadelphia', 'brooklyn', 'america', 'pittsburgh']\n",
    "\n",
    "stop_words = stopwords.words('english')\n",
    "stop_words.extend(meetup_words)\n",
    "stop_words.extend(states)"
   ]
  },
  {
   "cell_type": "code",
   "execution_count": 10,
   "metadata": {},
   "outputs": [
    {
     "name": "stdout",
     "output_type": "stream",
     "text": [
      "(2470, 7)\n",
      "[ 0.00170346  0.00170436  0.00170231  0.00170315  0.98978068  0.00170248\n",
      "  0.00170355]\n"
     ]
    }
   ],
   "source": [
    "from sklearn.decomposition import NMF, LatentDirichletAllocation, TruncatedSVD\n",
    "from sklearn.feature_extraction.text import CountVectorizer\n",
    " \n",
    "NUM_TOPICS = 7\n",
    "\n",
    "vectorizer = CountVectorizer(\n",
    "                             stop_words=stop_words, lowercase=True, \n",
    "                             token_pattern='[a-zA-Z\\-][a-zA-Z\\-]{2,}')\n",
    "data_vectorized = vectorizer.fit_transform(data)\n",
    " \n",
    "# Build a Latent Dirichlet Allocation Model\n",
    "lda_model = LatentDirichletAllocation(n_topics=NUM_TOPICS, max_iter=10, learning_method='online')\n",
    "lda_Z = lda_model.fit_transform(data_vectorized)\n",
    "print(lda_Z.shape)  # (NO_DOCUMENTS, NO_TOPICS)\n",
    " \n",
    "# Let's see how the first document in the corpus looks like in different topic spaces\n",
    "print(lda_Z[0])\n",
    "\n",
    " "
   ]
  },
  {
   "cell_type": "code",
   "execution_count": 11,
   "metadata": {},
   "outputs": [
    {
     "name": "stdout",
     "output_type": "stream",
     "text": [
      "LDA Model:\n",
      "Topic 0:\n",
      "[('volunteer', 102.93438047987473), ('life', 89.587013457316203), ('share', 80.752992423120233), ('help', 68.263215160826064), ('freedom', 65.349654005129395), ('want', 64.839498478396209), ('liberty', 62.403049776220477), ('world', 62.305461508141398), ('civic', 61.952174679043395), ('jewish', 61.839657534876196), ('friends', 58.82956431158928), ('gather', 55.850842340090878), ('something', 52.969894627871149), ('issues', 52.698865493128942), ('standing', 52.67999682032999), ('know', 52.637186001853443), ('good', 50.286701836992322), ('adr', 49.969785368934161), ('around', 49.887072434264155), ('plan', 49.838036716899964)]\n",
      "Topic 1:\n",
      "[('christian', 366.44992915386774), ('support', 227.84729292863062), ('national', 222.89510954378369), ('let', 163.75057839406307), ('please', 154.53611368203983), ('constitution', 148.75319597116805), ('oath', 147.98031150839503), ('government', 137.7788372699932), ('north', 127.24758764039413), ('federal', 102.7235855929038), ('events', 102.6304809163455), ('states', 99.389093338047488), ('help', 99.016421428287828), ('good', 98.818202863777643), ('resist', 98.704175482811522), ('take', 89.600296297830894), ('currently', 86.971638286929903), ('citizens', 86.718729116316524), ('information', 86.581631291786607), ('keepers', 86.381459291394648)]\n",
      "Topic 2:\n",
      "[('government', 163.82246707894623), ('action', 114.96611855562308), ('remember', 114.55776665166395), ('please', 102.09709290639695), ('-----------------', 99.947904035319695), ('democracy', 99.455375851493386), ('together', 99.160804968904259), ('firearms', 92.868714738517554), ('targetmasters', 92.868274872684538), ('answers', 92.866248452008264), ('nation', 86.87945191212907), ('also', 83.370813096337443), ('political', 83.233029270983067), ('trump', 80.657784375299414), ('movement', 80.368806205361125), ('liberty', 80.272746943598733), ('defense', 77.414567873815272), ('story', 77.41362701632832), ('official', 77.412231385181499), ('share', 75.924890087042797)]\n",
      "Topic 3:\n",
      "[('political', 206.71699378311163), ('events', 172.99087014940395), ('interested', 169.9576139232671), ('county', 162.83682676945588), ('voters', 161.09306819830761), ('government', 147.00148294915809), ('want', 141.80117393603041), ('city', 117.39385693598251), ('groups', 113.82078426222893), ('rule', 112.25308317187969), ('young', 90.335564855307069), ('voting', 87.340461583262979), ('vote', 87.1548411185519), ('issues', 87.116604782297273), ('town', 77.411319055891113), ('individuals', 77.292408620120767), ('politicians', 74.737441272331012), ('libertarians', 74.735752724199415), ('libertarian', 74.734436835164445), ('website', 74.610544387495111)]\n",
      "Topic 4:\n",
      "[('republican', 187.8715968112804), ('meetings', 175.81004723972654), ('members', 138.7154204183131), ('events', 127.96888792696828), ('membership', 119.74539823617448), ('political', 118.13192342690444), ('please', 114.13902487283761), ('women', 110.88289650660381), ('liberty', 110.86719247301257), ('topics', 110.6793888389808), ('time', 102.50048346046825), ('open', 102.00714665096288), ('rights', 101.52066605112773), ('public', 99.250144990037057), ('area', 92.861894457555351), ('etc', 89.809323779751082), ('attend', 89.558736418645267), ('outreach', 89.060449033201635), ('discussion', 86.894989270554561), ('would', 83.458514268164166)]\n",
      "Topic 5:\n",
      "[('political', 312.83710572581788), ('united', 169.40036259362216), ('values', 163.83423964031309), ('cuba', 148.47242150165388), ('americans', 139.62482844832024), ('politics', 131.10637556665549), ('rights', 126.73837561193568), ('government', 115.06080744222557), ('grassroots', 111.79512147768727), ('core', 111.10936899594103), ('issues', 107.14086336407998), ('county', 105.75132202585748), ('support', 104.17608406855143), ('together', 99.464033716966696), ('constitution', 97.378444251698269), ('discussion', 89.748831232174126), ('citizens', 87.193544845117216), ('candidates', 86.961423874569178), ('free', 86.743417493666541), ('patriots', 86.385810750775093)]\n",
      "Topic 6:\n",
      "[('women', 399.93986275651503), ('events', 167.13352823728968), ('please', 163.51299707872923), ('support', 156.42122211645128), ('national', 151.16282320784177), ('democratic', 136.53268135463387), ('help', 117.17056065344529), ('resist', 108.7897284179996), ('take', 92.882461683074339), ('revolution', 89.734193536570331), ('fun', 86.742376372338796), ('every', 83.981324995705634), ('work', 82.846894589608894), ('back', 80.489785218901545), ('fight', 79.863281176521099), ('equality', 79.079951692057804), ('want', 77.842200682377381), ('arlington', 77.415788511802674), ('lean', 77.413795642355524), ('promote', 77.188685637760187)]\n",
      "====================\n"
     ]
    }
   ],
   "source": [
    "def print_topics(model, vectorizer, top_n=20):\n",
    "    for idx, topic in enumerate(model.components_):\n",
    "        print(\"Topic %d:\" % (idx))\n",
    "        print([(vectorizer.get_feature_names()[i], topic[i])\n",
    "                        for i in topic.argsort()[:-top_n - 1:-1]])\n",
    "print(\"LDA Model:\")\n",
    "print_topics(lda_model, vectorizer)\n",
    "print(\"=\" * 20)"
   ]
  },
  {
   "cell_type": "code",
   "execution_count": 12,
   "metadata": {},
   "outputs": [
    {
     "ename": "TypeError",
     "evalue": "prepare() missing 2 required positional arguments: 'corpus' and 'dictionary'",
     "output_type": "error",
     "traceback": [
      "\u001b[1;31m---------------------------------------------------------------------------\u001b[0m",
      "\u001b[1;31mTypeError\u001b[0m                                 Traceback (most recent call last)",
      "\u001b[1;32m<ipython-input-12-b8b238b2a090>\u001b[0m in \u001b[0;36m<module>\u001b[1;34m()\u001b[0m\n\u001b[0;32m      1\u001b[0m \u001b[1;31m# Visualize the topics\u001b[0m\u001b[1;33m\u001b[0m\u001b[1;33m\u001b[0m\u001b[0m\n\u001b[0;32m      2\u001b[0m \u001b[0mpyLDAvis\u001b[0m\u001b[1;33m.\u001b[0m\u001b[0menable_notebook\u001b[0m\u001b[1;33m(\u001b[0m\u001b[1;33m)\u001b[0m\u001b[1;33m\u001b[0m\u001b[0m\n\u001b[1;32m----> 3\u001b[1;33m \u001b[0mvis\u001b[0m \u001b[1;33m=\u001b[0m \u001b[0mpyLDAvis\u001b[0m\u001b[1;33m.\u001b[0m\u001b[0mgensim\u001b[0m\u001b[1;33m.\u001b[0m\u001b[0mprepare\u001b[0m\u001b[1;33m(\u001b[0m\u001b[0mlda_model\u001b[0m\u001b[1;33m)\u001b[0m\u001b[1;33m\u001b[0m\u001b[0m\n\u001b[0m\u001b[0;32m      4\u001b[0m \u001b[0mvis\u001b[0m\u001b[1;33m\u001b[0m\u001b[0m\n",
      "\u001b[1;31mTypeError\u001b[0m: prepare() missing 2 required positional arguments: 'corpus' and 'dictionary'"
     ]
    }
   ],
   "source": [
    "# Visualize the topics\n",
    "pyLDAvis.enable_notebook()\n",
    "vis = pyLDAvis.gensim.prepare(lda_model)\n",
    "vis"
   ]
  },
  {
   "cell_type": "code",
   "execution_count": null,
   "metadata": {
    "collapsed": true
   },
   "outputs": [],
   "source": []
  }
 ],
 "metadata": {
  "kernelspec": {
   "display_name": "Python 3",
   "language": "python",
   "name": "python3"
  },
  "language_info": {
   "codemirror_mode": {
    "name": "ipython",
    "version": 3
   },
   "file_extension": ".py",
   "mimetype": "text/x-python",
   "name": "python",
   "nbconvert_exporter": "python",
   "pygments_lexer": "ipython3",
   "version": "3.6.2"
  }
 },
 "nbformat": 4,
 "nbformat_minor": 2
}
